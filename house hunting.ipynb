{
 "cells": [
  {
   "cell_type": "code",
   "execution_count": null,
   "metadata": {},
   "outputs": [],
   "source": [
    "\n",
    "#This is a program to calculate how many months it will take you to save up enough money for a down payment\n",
    "#Assume that your investments earn a return of 4%\n",
    "\n",
    "annual_salary = int(input(\"Enter your annual salary:\"))\n",
    "portion_saved = float(input(\"Enter the percent of your salary to save, as a decimal:\"))\n",
    "total_cost = int(input(\"Enter the cost of your dream home:\"))\n",
    "\n",
    "portion_down_payment = 0.25 #assume\n",
    "down_payment = total_cost * portion_down_payment\n",
    "current_savings = 0\n",
    "r = 0.04 #assuming that your invesments earn a return of 0.04 each month\n",
    "monthly_salary = annual_salary / 12\n",
    "monthly_saved = monthly_salary * portion_saved\n",
    "\n",
    "number_of_months = 0\n",
    "while current_savings < down_payment:\n",
    "    current_savings += monthly_saved + current_savings * r / 12\n",
    "    number_of_months += 1\n",
    "\n",
    "print(\"Number of months:\", str(number_of_months))"
   ]
  }
 ],
 "metadata": {
  "kernelspec": {
   "display_name": "Python 3",
   "language": "python",
   "name": "python3"
  },
  "language_info": {
   "codemirror_mode": {
    "name": "ipython",
    "version": 3
   },
   "file_extension": ".py",
   "mimetype": "text/x-python",
   "name": "python",
   "nbconvert_exporter": "python",
   "pygments_lexer": "ipython3",
   "version": "3.7.0"
  }
 },
 "nbformat": 4,
 "nbformat_minor": 2
}
